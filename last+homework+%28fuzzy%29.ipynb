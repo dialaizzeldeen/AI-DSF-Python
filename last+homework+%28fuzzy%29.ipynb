{
 "cells": [
  {
   "cell_type": "code",
   "execution_count": 1,
   "metadata": {
    "collapsed": true
   },
   "outputs": [],
   "source": [
    "import pandas as pd\n",
    "import numpy as np\n",
    "import matplotlib.pyplot as plt"
   ]
  },
  {
   "cell_type": "code",
   "execution_count": 2,
   "metadata": {
    "collapsed": true
   },
   "outputs": [],
   "source": [
    "%matplotlib inline"
   ]
  },
  {
   "cell_type": "markdown",
   "metadata": {},
   "source": [
    "in the function below return if the height is short , average or tall"
   ]
  },
  {
   "cell_type": "code",
   "execution_count": 3,
   "metadata": {
    "collapsed": true
   },
   "outputs": [],
   "source": [
    "\n",
    "def crisp(x):\n",
    "    if (x < 170):\n",
    "      print ( x ,\"is\",\"short\")\n",
    "    elif ( x < 180):\n",
    "     print (x ,\"is\",\"avarege\")\n",
    "    elif (x>=180 ):\n",
    "     print( x ,\"is\",\"tall\")\n",
    "    else :\n",
    "        print('not one of the three ')\n",
    "      \n",
    "\n"
   ]
  },
  {
   "cell_type": "code",
   "execution_count": 4,
   "metadata": {},
   "outputs": [
    {
     "name": "stdout",
     "output_type": "stream",
     "text": [
      "155 is short\n",
      "170 is avarege\n",
      "180 is tall\n"
     ]
    }
   ],
   "source": [
    "# to check if it tall , shor or avarge using crisp \n",
    "# enter  any height you want useing crisp\n",
    "\n",
    "crisp(155)\n",
    "crisp(170)\n",
    "crisp(180)"
   ]
  },
  {
   "cell_type": "code",
   "execution_count": 5,
   "metadata": {
    "collapsed": true
   },
   "outputs": [],
   "source": [
    "def trapmf(x,a,b,c,d):\n",
    "    if (x <=a ):\n",
    "        m=0\n",
    "    elif (x> a and x<b):\n",
    "        m=(x-a)/(b-a)\n",
    "       \n",
    "    elif (x>= b and x<=c):\n",
    "        m=1\n",
    "    elif (x>c and x<d):\n",
    "        m=(d-x)/(d-c)\n",
    "    elif(x>=d):\n",
    "        m=0\n",
    "        \n",
    "    return m\n",
    "    "
   ]
  },
  {
   "cell_type": "code",
   "execution_count": 6,
   "metadata": {},
   "outputs": [
    {
     "name": "stdout",
     "output_type": "stream",
     "text": [
      "[0, 0, 0, 0, 0, 0, 0, 0, 0, 0, 0, 0.2, 0.4, 0.6, 0.8, 1, 1, 1, 1, 1, 1, 1, 1, 1, 0.8571428571428571, 0.7142857142857143, 0.5714285714285714, 0.42857142857142855, 0.2857142857142857, 0.14285714285714285, 0, 0, 0, 0, 0, 0, 0, 0, 0, 0, 0, 0, 0, 0, 0, 0, 0, 0, 0, 0, 0, 0, 0, 0, 0, 0, 0, 0, 0, 0, 0, 0, 0, 0, 0, 0, 0, 0, 0, 0, 0]\n",
      "[140, 141, 142, 143, 144, 145, 146, 147, 148, 149, 150, 151, 152, 153, 154, 155, 156, 157, 158, 159, 160, 161, 162, 163, 164, 165, 166, 167, 168, 169, 170, 171, 172, 173, 174, 175, 176, 177, 178, 179, 180, 181, 182, 183, 184, 185, 186, 187, 188, 189, 190, 191, 192, 193, 194, 195, 196, 197, 198, 199, 200, 201, 202, 203, 204, 205, 206, 207, 208, 209, 210]\n"
     ]
    }
   ],
   "source": [
    "xall=list(range(140,211))\n",
    "xs=list(range(150,171))\n",
    "\n",
    "ySH=[trapmf(i,150,155,163,170) for i in xall]\n",
    "print (ySH)\n",
    "print(xall)"
   ]
  },
  {
   "cell_type": "markdown",
   "metadata": {},
   "source": [
    "the code above find the mf for all heights from 150 to 170 and put them in list named ySH\n",
    "\n",
    "\n",
    "and now we draw in using plt.plot \n"
   ]
  },
  {
   "cell_type": "code",
   "execution_count": 7,
   "metadata": {},
   "outputs": [
    {
     "data": {
      "text/plain": [
       "<function matplotlib.pyplot.show>"
      ]
     },
     "execution_count": 7,
     "metadata": {},
     "output_type": "execute_result"
    },
    {
     "data": {
      "image/png": "[encoded data removed]",
      "text/plain": [
       "<matplotlib.figure.Figure at 0xc3e71dc908>"
      ]
     },
     "metadata": {},
     "output_type": "display_data"
    }
   ],
   "source": [
    "_=plt.plot(xall,ySH)\n",
    "\n",
    "_=plt.xlabel('short')\n",
    "_=plt.ylabel('member ship function ')\n",
    "plt.show\n"
   ]
  },
  {
   "cell_type": "markdown",
   "metadata": {},
   "source": [
    " now we do the same for heights from 180 to 210 (tall )"
   ]
  },
  {
   "cell_type": "code",
   "execution_count": 8,
   "metadata": {},
   "outputs": [
    {
     "name": "stdout",
     "output_type": "stream",
     "text": [
      "[0, 0, 0, 0, 0, 0, 0, 0, 0, 0, 0, 0, 0, 0, 0, 0, 0, 0, 0, 0, 0, 0, 0, 0, 0, 0, 0, 0, 0, 0, 0, 0, 0, 0, 0, 0, 0, 0, 0, 0, 0, 0.1, 0.2, 0.3, 0.4, 0.5, 0.6, 0.7, 0.8, 0.9, 1, 1, 1, 1, 1, 1, 1, 1, 1, 1, 1, 1, 1, 1, 1, 1, 1, 1, 1, 1, 1]\n"
     ]
    },
    {
     "data": {
      "text/plain": [
       "<function matplotlib.pyplot.show>"
      ]
     },
     "execution_count": 8,
     "metadata": {},
     "output_type": "execute_result"
    },
    {
     "data": {
      "image/png": "[encoded data removed]",
      "text/plain": [
       "<matplotlib.figure.Figure at 0xc3e7912a90>"
      ]
     },
     "metadata": {},
     "output_type": "display_data"
    }
   ],
   "source": [
    "xt=list(range(180,211))\n",
    "yT=[trapmf(i,180,190,210,230) for i in xall]\n",
    "print (yT)\n",
    "_=plt.plot(xall,yT)\n",
    "\n",
    "_=plt.xlabel('tall')\n",
    "_=plt.ylabel('member ship function ')\n",
    "_=plt.ylim([-0.05, 1.05])\n",
    "plt.show"
   ]
  },
  {
   "cell_type": "code",
   "execution_count": 9,
   "metadata": {
    "collapsed": true
   },
   "outputs": [],
   "source": [
    "def tramf(x,a,b,c):\n",
    "    if(x < a):\n",
    "        t=0\n",
    "    elif(x>=a and x<=b):\n",
    "        t=(x-a)/(b-a)\n",
    "    elif(x>=b and x<=c):\n",
    "        t=(c-x)/(c-b)\n",
    "    elif(x>c):\n",
    "        t=0\n",
    "    return t\n",
    "    "
   ]
  },
  {
   "cell_type": "markdown",
   "metadata": {},
   "source": [
    "the function above to find the mf for triangle\n",
    "a  is the  the rising edge for the triangular \n",
    "b  the peak of the triangular \n",
    "c  is the  falling edge of the triangular\n",
    "\n",
    "and x is the value that you want to calculate  the membership (mf) for it \n",
    "\n",
    "at least this function called membership function for triangular\n"
   ]
  },
  {
   "cell_type": "code",
   "execution_count": 10,
   "metadata": {},
   "outputs": [
    {
     "name": "stdout",
     "output_type": "stream",
     "text": [
      "[0, 0, 0, 0, 0, 0, 0, 0, 0, 0, 0, 0, 0, 0, 0, 0, 0, 0, 0, 0, 0, 0, 0, 0, 0, 0.0, 0.1, 0.2, 0.3, 0.4, 0.5, 0.6, 0.7, 0.8, 0.9, 1.0, 0.9, 0.8, 0.7, 0.6, 0.5, 0.4, 0.3, 0.2, 0.1, 0.0, 0, 0, 0, 0, 0, 0, 0, 0, 0, 0, 0, 0, 0, 0, 0, 0, 0, 0, 0, 0, 0, 0, 0, 0, 0]\n",
      "[165, 166, 167, 168, 169, 170, 171, 172, 173, 174, 175, 176, 177, 178, 179, 180, 181, 182, 183, 184, 185]\n"
     ]
    },
    {
     "data": {
      "text/plain": [
       "<function matplotlib.pyplot.show>"
      ]
     },
     "execution_count": 10,
     "metadata": {},
     "output_type": "execute_result"
    },
    {
     "data": {
      "image/png": "[encoded data removed]",
      "text/plain": [
       "<matplotlib.figure.Figure at 0xc3e7182208>"
      ]
     },
     "metadata": {},
     "output_type": "display_data"
    }
   ],
   "source": [
    "xa=list(range(165,186))\n",
    "yAV=[tramf(i,165,175,185) for i in xall]\n",
    "print(yAV)\n",
    "print(xa)\n",
    "_=plt.plot(xall,yAV)\n",
    "\n",
    "_=plt.xlabel('average')\n",
    "_=plt.ylabel('member ship function ')\n",
    "plt.show"
   ]
  },
  {
   "cell_type": "markdown",
   "metadata": {
    "collapsed": true
   },
   "source": [
    "\n",
    "\n",
    "to draw all the previous plot together"
   ]
  },
  {
   "cell_type": "code",
   "execution_count": 24,
   "metadata": {},
   "outputs": [
    {
     "data": {
      "text/plain": [
       "<function matplotlib.pyplot.show>"
      ]
     },
     "execution_count": 24,
     "metadata": {},
     "output_type": "execute_result"
    },
    {
     "data": {
      "image/png": "[encoded data removed]",
      "text/plain": [
       "<matplotlib.figure.Figure at 0xc3e5b4d518>"
      ]
     },
     "metadata": {},
     "output_type": "display_data"
    }
   ],
   "source": [
    "\n",
    "\n",
    "_=plt.plot(xall,ySH,color='red')\n",
    "_=plt.plot(xall,yT,color='green')\n",
    "_=plt.plot(xall,yAV,color='blue')\n",
    "\n",
    "_=plt.xlabel('height')\n",
    "_=plt.ylabel('member ship function ')\n",
    "_ = plt.legend(('short','tall','average'), loc='lower right')\n",
    "plt.axvline(x=166,color='orange' ,linestyle='--')\n",
    "plt.show\n"
   ]
  },
  {
   "cell_type": "markdown",
   "metadata": {
    "collapsed": true
   },
   "source": [
    "we use this (plt.axvline(x=166,color='yellow' ,linestyle='--')\n",
    ") to locate a specific length value , so you can write any value you want in( x=) to determines it location "
   ]
  },
  {
   "cell_type": "code",
   "execution_count": null,
   "metadata": {},
   "outputs": [],
   "source": []
  },
  {
   "cell_type": "code",
   "execution_count": null,
   "metadata": {
    "collapsed": true
   },
   "outputs": [],
   "source": []
  }
 ],
 "metadata": {
  "kernelspec": {
   "display_name": "Python 3",
   "language": "python",
   "name": "python3"
  },
  "language_info": {
   "codemirror_mode": {
    "name": "ipython",
    "version": 3
   },
   "file_extension": ".py",
   "mimetype": "text/x-python",
   "name": "python",
   "nbconvert_exporter": "python",
   "pygments_lexer": "ipython3",
   "version": "3.6.1"
  }
 },
 "nbformat": 4,
 "nbformat_minor": 2
}
