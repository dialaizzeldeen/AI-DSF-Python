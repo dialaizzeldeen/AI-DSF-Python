{
 "cells": [
  {
   "cell_type": "code",
   "execution_count": 1,
   "metadata": {
    "collapsed": true
   },
   "outputs": [],
   "source": [
    "contries ={\"palestine\":\"al quds\",\"uk\":\"london\",\"spain\":\"madrid\",\"jordan\":\"amman\",\"turkey\":\"istanbul\",\"uae\":\"dubi\",\n",
    "           \"amman\":\"amman\",\"usa\":\" wash\",\"franc\":\"paris\",\"ksa\":\"reyad\"}"
   ]
  },
  {
   "cell_type": "code",
   "execution_count": 2,
   "metadata": {},
   "outputs": [
    {
     "data": {
      "text/plain": [
       "'dubi'"
      ]
     },
     "execution_count": 2,
     "metadata": {},
     "output_type": "execute_result"
    }
   ],
   "source": [
    "contries['uae']"
   ]
  },
  {
   "cell_type": "code",
   "execution_count": 3,
   "metadata": {
    "collapsed": true
   },
   "outputs": [],
   "source": [
    "contries[\"qatr\"]=\"doha\""
   ]
  },
  {
   "cell_type": "code",
   "execution_count": 4,
   "metadata": {
    "collapsed": true
   },
   "outputs": [],
   "source": [
    "contries[\"italy\"]=\"roma\""
   ]
  },
  {
   "cell_type": "code",
   "execution_count": 5,
   "metadata": {
    "collapsed": true
   },
   "outputs": [],
   "source": [
    "con={i:contries[i] for i in contries}"
   ]
  },
  {
   "cell_type": "code",
   "execution_count": 6,
   "metadata": {},
   "outputs": [
    {
     "data": {
      "text/plain": [
       "{'amman': 'amman',\n",
       " 'franc': 'paris',\n",
       " 'italy': 'roma',\n",
       " 'jordan': 'amman',\n",
       " 'ksa': 'reyad',\n",
       " 'palestine': 'al quds',\n",
       " 'qatr': 'doha',\n",
       " 'spain': 'madrid',\n",
       " 'turkey': 'istanbul',\n",
       " 'uae': 'dubi',\n",
       " 'uk': 'london',\n",
       " 'usa': ' wash'}"
      ]
     },
     "execution_count": 6,
     "metadata": {},
     "output_type": "execute_result"
    }
   ],
   "source": [
    "con"
   ]
  },
  {
   "cell_type": "code",
   "execution_count": 7,
   "metadata": {},
   "outputs": [
    {
     "data": {
      "text/plain": [
       "['palestine',\n",
       " 'uk',\n",
       " 'spain',\n",
       " 'jordan',\n",
       " 'turkey',\n",
       " 'uae',\n",
       " 'amman',\n",
       " 'usa',\n",
       " 'franc',\n",
       " 'ksa',\n",
       " 'qatr',\n",
       " 'italy']"
      ]
     },
     "execution_count": 7,
     "metadata": {},
     "output_type": "execute_result"
    }
   ],
   "source": [
    "list1=[i for i in contries]\n",
    "list1"
   ]
  },
  {
   "cell_type": "code",
   "execution_count": 8,
   "metadata": {},
   "outputs": [
    {
     "data": {
      "text/plain": [
       "['al quds',\n",
       " 'london',\n",
       " 'madrid',\n",
       " 'amman',\n",
       " 'istanbul',\n",
       " 'dubi',\n",
       " 'amman',\n",
       " ' wash',\n",
       " 'paris',\n",
       " 'reyad',\n",
       " 'doha',\n",
       " 'roma']"
      ]
     },
     "execution_count": 8,
     "metadata": {},
     "output_type": "execute_result"
    }
   ],
   "source": [
    "list2 =[ contries[i] for i in contries]\n",
    "list2"
   ]
  },
  {
   "cell_type": "code",
   "execution_count": 9,
   "metadata": {
    "collapsed": true
   },
   "outputs": [],
   "source": [
    "dec2 ={ i:j  for i in list1 \n",
    "      for j in list2 }"
   ]
  },
  {
   "cell_type": "code",
   "execution_count": 10,
   "metadata": {},
   "outputs": [
    {
     "data": {
      "text/plain": [
       "{'amman': 'roma',\n",
       " 'franc': 'roma',\n",
       " 'italy': 'roma',\n",
       " 'jordan': 'roma',\n",
       " 'ksa': 'roma',\n",
       " 'palestine': 'roma',\n",
       " 'qatr': 'roma',\n",
       " 'spain': 'roma',\n",
       " 'turkey': 'roma',\n",
       " 'uae': 'roma',\n",
       " 'uk': 'roma',\n",
       " 'usa': 'roma'}"
      ]
     },
     "execution_count": 10,
     "metadata": {},
     "output_type": "execute_result"
    }
   ],
   "source": [
    "dec2"
   ]
  },
  {
   "cell_type": "markdown",
   "metadata": {},
   "source": [
    "حلي هاي المشكلة ب انو  ما تخلي يطبع روما دائما "
   ]
  },
  {
   "cell_type": "markdown",
   "metadata": {},
   "source": [
    "end of exrsice "
   ]
  },
  {
   "cell_type": "code",
   "execution_count": null,
   "metadata": {
    "collapsed": true
   },
   "outputs": [],
   "source": []
  },
  {
   "cell_type": "code",
   "execution_count": 11,
   "metadata": {
    "collapsed": true
   },
   "outputs": [],
   "source": [
    "list1=['palestine',\n",
    " 'uk',\n",
    " 'spain',\n",
    " 'jordan',\n",
    " 'turkey',\n",
    " 'uae',\n",
    " 'amman',\n",
    " 'usa',\n",
    " 'franc',\n",
    " 'ksa',\n",
    " 'qatr',\n",
    " 'italy']"
   ]
  },
  {
   "cell_type": "code",
   "execution_count": 12,
   "metadata": {
    "collapsed": true
   },
   "outputs": [],
   "source": [
    "list2= ['al quds',\n",
    " 'london',\n",
    " 'madrid',\n",
    " 'amman',\n",
    " 'istanbul',\n",
    " 'dubi',\n",
    " 'amman',\n",
    " ' wash',\n",
    " 'paris',\n",
    " 'reyad',\n",
    " 'doha',\n",
    " 'roma']"
   ]
  },
  {
   "cell_type": "code",
   "execution_count": 13,
   "metadata": {
    "collapsed": true
   },
   "outputs": [],
   "source": [
    "dec={}"
   ]
  },
  {
   "cell_type": "code",
   "execution_count": 14,
   "metadata": {},
   "outputs": [
    {
     "ename": "IndentationError",
     "evalue": "expected an indented block (<ipython-input-14-e130769b11e6>, line 7)",
     "output_type": "error",
     "traceback": [
      "\u001b[1;36m  File \u001b[1;32m\"<ipython-input-14-e130769b11e6>\"\u001b[1;36m, line \u001b[1;32m7\u001b[0m\n\u001b[1;33m    dec[i]=j\u001b[0m\n\u001b[1;37m      ^\u001b[0m\n\u001b[1;31mIndentationError\u001b[0m\u001b[1;31m:\u001b[0m expected an indented block\n"
     ]
    }
   ],
   "source": [
    "count = 0\n",
    "len1=len.list1()\n",
    "len2=len.list2()\n",
    "for i in list1:\n",
    "    for j in list2:\n",
    "        if count <len2:\n",
    "        dec[i]=j\n",
    "        count+=1"
   ]
  },
  {
   "cell_type": "code",
   "execution_count": 15,
   "metadata": {},
   "outputs": [
    {
     "data": {
      "text/plain": [
       "{}"
      ]
     },
     "execution_count": 15,
     "metadata": {},
     "output_type": "execute_result"
    }
   ],
   "source": [
    "dec"
   ]
  },
  {
   "cell_type": "code",
   "execution_count": 16,
   "metadata": {},
   "outputs": [
    {
     "data": {
      "text/plain": [
       "12"
      ]
     },
     "execution_count": 16,
     "metadata": {},
     "output_type": "execute_result"
    }
   ],
   "source": [
    "list1=['palestine',\n",
    " 'uk',\n",
    " 'spain',\n",
    " 'jordan',\n",
    " 'turkey',\n",
    " 'uae',\n",
    " 'amman',\n",
    " 'usa',\n",
    " 'franc',\n",
    " 'ksa',\n",
    " 'qatr',\n",
    " 'italy']\n",
    "list2= ['al quds',\n",
    " 'london',\n",
    " 'madrid',\n",
    " 'amman',\n",
    " 'istanbul',\n",
    " 'dubi',\n",
    " 'amman',\n",
    " ' wash',\n",
    " 'paris',\n",
    " 'reyad',\n",
    " 'doha',\n",
    " 'roma']\n",
    "list2len=len(list2)\n",
    "list2len"
   ]
  },
  {
   "cell_type": "markdown",
   "metadata": {},
   "source": [
    "dec=\"\"\n",
    "dec={ for i in list1:\n",
    "                    for j in range(list2len):\n",
    "   i:list2[j]  }\n",
    "dec"
   ]
  },
  {
   "cell_type": "code",
   "execution_count": 28,
   "metadata": {},
   "outputs": [
    {
     "data": {
      "text/plain": [
       "{'amman': 'amman',\n",
       " 'franc': 'paris',\n",
       " 'italy': 'roma',\n",
       " 'jordan': 'amman',\n",
       " 'ksa': 'reyad',\n",
       " 'palestine': 'al quds',\n",
       " 'qatr': 'doha',\n",
       " 'spain': 'madrid',\n",
       " 'turkey': 'istanbul',\n",
       " 'uae': 'dubi',\n",
       " 'uk': 'london',\n",
       " 'usa': ' wash'}"
      ]
     },
     "execution_count": 28,
     "metadata": {},
     "output_type": "execute_result"
    }
   ],
   "source": [
    "for i in range(12):\n",
    "    dec[list1[i]]=list2[i]\n",
    "dec"
   ]
  },
  {
   "cell_type": "code",
   "execution_count": 29,
   "metadata": {},
   "outputs": [
    {
     "data": {
      "text/plain": [
       "{'amman': 'amman',\n",
       " 'franc': 'paris',\n",
       " 'italy': 'roma',\n",
       " 'jordan': 'amman',\n",
       " 'ksa': 'reyad',\n",
       " 'palestine': 'al quds',\n",
       " 'qatr': 'doha',\n",
       " 'spain': 'madrid',\n",
       " 'turkey': 'istanbul',\n",
       " 'uae': 'dubi',\n",
       " 'uk': 'london',\n",
       " 'usa': ' wash'}"
      ]
     },
     "execution_count": 29,
     "metadata": {},
     "output_type": "execute_result"
    }
   ],
   "source": [
    "dic=dict(zip(list1,list2))\n",
    "dic"
   ]
  },
  {
   "cell_type": "code",
   "execution_count": 30,
   "metadata": {},
   "outputs": [
    {
     "data": {
      "text/plain": [
       "{'amman': 'amman',\n",
       " 'franc': 'paris',\n",
       " 'italy': 'roma',\n",
       " 'jordan': 'amman',\n",
       " 'ksa': 'reyad',\n",
       " 'palestine': 'al quds',\n",
       " 'qatr': 'doha',\n",
       " 'spain': 'madrid',\n",
       " 'turkey': 'istanbul',\n",
       " 'uae': 'dubi',\n",
       " 'uk': 'london',\n",
       " 'usa': ' wash'}"
      ]
     },
     "execution_count": 30,
     "metadata": {},
     "output_type": "execute_result"
    }
   ],
   "source": [
    "newdic={k:v for k,v in zip(list1,list2)}\n",
    "newdic"
   ]
  }
 ],
 "metadata": {
  "kernelspec": {
   "display_name": "Python 3",
   "language": "python",
   "name": "python3"
  },
  "language_info": {
   "codemirror_mode": {
    "name": "ipython",
    "version": 3
   },
   "file_extension": ".py",
   "mimetype": "text/x-python",
   "name": "python",
   "nbconvert_exporter": "python",
   "pygments_lexer": "ipython3",
   "version": "3.6.1"
  }
 },
 "nbformat": 4,
 "nbformat_minor": 2
}
